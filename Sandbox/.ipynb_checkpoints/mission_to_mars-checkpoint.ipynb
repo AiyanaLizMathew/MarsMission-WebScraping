{
 "cells": [
  {
   "cell_type": "code",
   "execution_count": 1,
   "metadata": {
    "collapsed": true
   },
   "outputs": [],
   "source": [
    "# Import Dependencies\n",
    "import time\n",
    "from splinter import Browser\n",
    "from bs4 import BeautifulSoup\n",
    "from selenium import webdriver\n"
   ]
  },
  {
   "cell_type": "code",
   "execution_count": 2,
   "metadata": {
    "collapsed": true
   },
   "outputs": [],
   "source": [
    "def init_browser():\n",
    "    # @NOTE: Replace the path with your actual path to the chromedriver\n",
    "    executable_path = {\"executable_path\":\"chromedriver.exe\"}\n",
    "    return Browser(\"chrome\", **executable_path, headless=False)"
   ]
  },
  {
   "cell_type": "code",
   "execution_count": 3,
   "metadata": {},
   "outputs": [
    {
     "name": "stdout",
     "output_type": "stream",
     "text": [
      "News Title:\n",
      "A Piece of Mars is Going Home\n",
      "News Content:\n",
      "When it launches in 2020, NASA's next Mars rover will carry a chunk of Martian meteorite on board.\n",
      "Published Date: February 13, 2018\n",
      "Link: https://mars.nasa.gov/news/8308/a-piece-of-mars-is-going-home/\n"
     ]
    }
   ],
   "source": [
    "browser = init_browser()\n",
    "nasamars_newsurl = \"https://mars.nasa.gov/news/\"\n",
    "# Visit the Nasa MARS News URL\n",
    "browser.visit(nasamars_newsurl)\n",
    "time.sleep(5)\n",
    "# Create a soup object to find the latest news from the URL\n",
    "html = browser.html\n",
    "news_soup = BeautifulSoup(html,\"html.parser\") \n",
    "\n",
    "article = news_soup.find(\"div\",class_=\"list_text\")\n",
    "# Extract the date for which the news was posted\n",
    "news_date = article.find(\"div\",class_=\"list_date\").text\n",
    "# Extract the title for which the news posted\n",
    "news_title = article.find(\"div\",class_=\"content_title\").text\n",
    "# Extract the partial link for which the news posted\n",
    "link = article.find(\"div\",class_=\"content_title\").find(\"a\").get(\"href\")\n",
    "# Form the complete link by appending the strings with the partial link\n",
    "news_link = \"https://mars.nasa.gov\" + link\n",
    "# Extract the article for which the news posted\n",
    "news_p = article.find(\"div\",class_=\"article_teaser_body\").text\n",
    "\n",
    "\n",
    "# Print Results\n",
    "print(\"News Title:\\n%s\"%news_title)\n",
    "print(\"News Content:\\n%s\"%news_p)\n",
    "print(\"Published Date: %s\"%news_date)\n",
    "print(\"Link: %s\"%news_link)"
   ]
  },
  {
   "cell_type": "code",
   "execution_count": 4,
   "metadata": {},
   "outputs": [
    {
     "name": "stdout",
     "output_type": "stream",
     "text": [
      "Featured Image URL: https://jpl.nasa.gov/spaceimages/images/wallpaper/PIA16565-1920x1200.jpg\n",
      "Image Title: First Use of Mars Rover Curiosity's Dust Removal Tool\n"
     ]
    }
   ],
   "source": [
    "# Mars JPL URL\n",
    "jpl_url = \"https://www.jpl.nasa.gov/spaceimages/?search=&category=Mars/\"\n",
    "# Visit the JPL MARS URL\n",
    "browser.visit(jpl_url)\n",
    "time.sleep(5)\n",
    "# Create a soup object to find the latest news from the URL\n",
    "html = browser.html\n",
    "jpl_soup = BeautifulSoup(html,\"html.parser\") \n",
    "\n",
    "img_link = jpl_soup.find(\"div\",class_=\"carousel_container\").find(\"div\",class_=\"carousel_items\").\\\n",
    "            find(\"article\",class_=\"carousel_item\").get(\"style\").split(\"('\", 1)[1].split(\"')\")[0]\n",
    "featured_image_url = \"https://jpl.nasa.gov\"+img_link\n",
    "img_title = jpl_soup.find(\"div\",class_=\"carousel_container\").find(\"div\",class_=\"carousel_items\").\\\n",
    "            find(\"article\",class_=\"carousel_item\").find(\"h1\",class_=\"media_feature_title\").text.strip()\n",
    "# Print the result\n",
    "print(\"Featured Image URL: %s\"%featured_image_url)\n",
    "print(\"Image Title: %s\"%img_title)"
   ]
  },
  {
   "cell_type": "code",
   "execution_count": 5,
   "metadata": {
    "collapsed": true
   },
   "outputs": [],
   "source": [
    "# Twitter Dependencies\n",
    "import tweepy\n",
    "import json\n",
    "\n",
    "# Twitter API Keys\n",
    "consumer_key = \"------------------------------------------\"\n",
    "consumer_secret = \"---------------------------------------------\"\n",
    "access_token = \"------------------------------------------\"\n",
    "access_token_secret = \"------------------------------------------\"\n",
    "\n",
    "# Setup Tweepy API Authentication\n",
    "auth = tweepy.OAuthHandler(consumer_key, consumer_secret)\n",
    "auth.set_access_token(access_token, access_token_secret)\n",
    "api = tweepy.API(auth, parser=tweepy.parsers.JSONParser())"
   ]
  },
  {
   "cell_type": "code",
   "execution_count": 6,
   "metadata": {},
   "outputs": [
    {
     "name": "stdout",
     "output_type": "stream",
     "text": [
      "Mars Weather Tweet:Sol 1963 (Feb 13, 2018), Sunny, high -14C/6F, low -77C/-106F, pressure at 7.37 hPa, daylight 05:40-17:27\n",
      "Mars Weather URL:https://twitter.com/marswxreport?lang=en\n"
     ]
    }
   ],
   "source": [
    "# Mars Twitter Weather URL\n",
    "marsweather_url=\"https://twitter.com/marswxreport?lang=en\"\n",
    "# Visit the Mars Weather twitter page URL\n",
    "browser.visit(marsweather_url)\n",
    "time.sleep(5)\n",
    "# Create a soup object to find the latest news from the URL\n",
    "html = browser.html\n",
    "weather_soup = BeautifulSoup(html,\"html.parser\") \n",
    "# Read the target_user from the URL\n",
    "target_user = \"@\" + weather_soup.find(\"b\",class_=\"u-linkComplex-target\").text\n",
    "# Read the recent tweet on the timeline\n",
    "mars_recentweather_tweet = api.user_timeline(target_user,count=1)\n",
    "mars_weather = mars_recentweather_tweet[0][\"text\"]\n",
    "\n",
    "# Print weather Result\n",
    "print(\"Mars Weather Tweet:%s\"%mars_weather)\n",
    "print(\"Mars Weather URL:%s\"%marsweather_url)"
   ]
  },
  {
   "cell_type": "code",
   "execution_count": 7,
   "metadata": {},
   "outputs": [
    {
     "name": "stdout",
     "output_type": "stream",
     "text": [
      "<table border=\"1\" class=\"dataframe\">\n",
      "  <thead>\n",
      "    <tr style=\"text-align: right;\">\n",
      "      <th></th>\n",
      "      <th>Value</th>\n",
      "    </tr>\n",
      "    <tr>\n",
      "      <th>Parameter</th>\n",
      "      <th></th>\n",
      "    </tr>\n",
      "  </thead>\n",
      "  <tbody>\n",
      "    <tr>\n",
      "      <th>Equatorial Diameter:</th>\n",
      "      <td>6,792 km</td>\n",
      "    </tr>\n",
      "    <tr>\n",
      "      <th>Polar Diameter:</th>\n",
      "      <td>6,752 km</td>\n",
      "    </tr>\n",
      "    <tr>\n",
      "      <th>Mass:</th>\n",
      "      <td>6.42 x 10^23 kg (10.7% Earth)</td>\n",
      "    </tr>\n",
      "    <tr>\n",
      "      <th>Moons:</th>\n",
      "      <td>2 (Phobos &amp; Deimos)</td>\n",
      "    </tr>\n",
      "    <tr>\n",
      "      <th>Orbit Distance:</th>\n",
      "      <td>227,943,824 km (1.52 AU)</td>\n",
      "    </tr>\n",
      "    <tr>\n",
      "      <th>Orbit Period:</th>\n",
      "      <td>687 days (1.9 years)</td>\n",
      "    </tr>\n",
      "    <tr>\n",
      "      <th>Surface Temperature:</th>\n",
      "      <td>-153 to 20 °C</td>\n",
      "    </tr>\n",
      "    <tr>\n",
      "      <th>First Record:</th>\n",
      "      <td>2nd millennium BC</td>\n",
      "    </tr>\n",
      "    <tr>\n",
      "      <th>Recorded By:</th>\n",
      "      <td>Egyptian astronomers</td>\n",
      "    </tr>\n",
      "  </tbody>\n",
      "</table>\n"
     ]
    }
   ],
   "source": [
    "# Import pandas to read the html page\n",
    "import pandas as pd\n",
    "\n",
    "# Mars Facts URL\n",
    "marsfacts_url = \"https://space-facts.com/mars/\"\n",
    "\n",
    "# Read the table from the html page\n",
    "table = pd.read_html(marsfacts_url)\n",
    "mars_data = table[0]\n",
    "mars_data = mars_data.rename(columns={0:\"Parameter\",1:\"Value\"})\n",
    "mars_data.set_index(\"Parameter\", inplace = True)\n",
    "mars_data=mars_data.to_html()\n",
    "\n",
    "# Print mars data table\n",
    "print(mars_data)"
   ]
  },
  {
   "cell_type": "code",
   "execution_count": 8,
   "metadata": {},
   "outputs": [
    {
     "name": "stdout",
     "output_type": "stream",
     "text": [
      "Cerberus Hemisphere Enhanced\n",
      "Visiting new page to extract full size image\n",
      "https://astrogeology.usgs.gov/cache/images/cfa62af2557222a02478f1fcd781d445_cerberus_enhanced.tif_full.jpg\n",
      "Link for full size image extracted.\n",
      "\n",
      "Schiaparelli Hemisphere Enhanced\n",
      "Visiting new page to extract full size image\n",
      "https://astrogeology.usgs.gov/cache/images/3cdd1cbf5e0813bba925c9030d13b62e_schiaparelli_enhanced.tif_full.jpg\n",
      "Link for full size image extracted.\n",
      "\n",
      "Syrtis Major Hemisphere Enhanced\n",
      "Visiting new page to extract full size image\n",
      "https://astrogeology.usgs.gov/cache/images/ae209b4e408bb6c3e67b6af38168cf28_syrtis_major_enhanced.tif_full.jpg\n",
      "Link for full size image extracted.\n",
      "\n",
      "Valles Marineris Hemisphere Enhanced\n",
      "Visiting new page to extract full size image\n",
      "https://astrogeology.usgs.gov/cache/images/7cf2da4bf549ed01c17f206327be4db7_valles_marineris_enhanced.tif_full.jpg\n",
      "Link for full size image extracted.\n",
      "\n",
      "[{'title': 'Cerberus Hemisphere Enhanced', 'img_url': 'https://astrogeology.usgs.gov/cache/images/cfa62af2557222a02478f1fcd781d445_cerberus_enhanced.tif_full.jpg', 'hemisphere_url': 'https://astrogeology.usgs.gov/search/map/Mars/Viking/cerberus_enhanced'}, {'title': 'Schiaparelli Hemisphere Enhanced', 'img_url': 'https://astrogeology.usgs.gov/cache/images/3cdd1cbf5e0813bba925c9030d13b62e_schiaparelli_enhanced.tif_full.jpg', 'hemisphere_url': 'https://astrogeology.usgs.gov/search/map/Mars/Viking/schiaparelli_enhanced'}, {'title': 'Syrtis Major Hemisphere Enhanced', 'img_url': 'https://astrogeology.usgs.gov/cache/images/ae209b4e408bb6c3e67b6af38168cf28_syrtis_major_enhanced.tif_full.jpg', 'hemisphere_url': 'https://astrogeology.usgs.gov/search/map/Mars/Viking/syrtis_major_enhanced'}, {'title': 'Valles Marineris Hemisphere Enhanced', 'img_url': 'https://astrogeology.usgs.gov/cache/images/7cf2da4bf549ed01c17f206327be4db7_valles_marineris_enhanced.tif_full.jpg', 'hemisphere_url': 'https://astrogeology.usgs.gov/search/map/Mars/Viking/valles_marineris_enhanced'}]\n"
     ]
    }
   ],
   "source": [
    "# Mars Hemisperes URL\n",
    "mars_hemisperes_url=\"https://astrogeology.usgs.gov/search/results?q=hemisphere+enhanced&k1=target&v1=Mars\"\n",
    "\n",
    "# Visit the Mars Hemisperes URL\n",
    "browser.visit(mars_hemisperes_url)\n",
    "time.sleep(5)\n",
    "# Create a soup object to find the content from the URL\n",
    "html = browser.html\n",
    "hemisperes_soup = BeautifulSoup(html,\"html.parser\") \n",
    "\n",
    "# Results from the first page that has all the four items\n",
    "hemisperes_results= hemisperes_soup.find(\"div\",class_=\"collapsible results\").find_all(\"div\",class_=\"item\")\n",
    "\n",
    "# Store the needed result  to a list\n",
    "hemisphere_image_urls=[] \n",
    "for item in hemisperes_results:\n",
    "    # Finding the title from the hemispere results\n",
    "    title = item.find(\"h3\").text\n",
    "    print(title)\n",
    "    # Visit the new URL upon clicking the thumbnail header or image\n",
    "    print(\"Visiting new page to extract full size image\")\n",
    "    url=\"https://astrogeology.usgs.gov\"+item.find(\"a\",class_=\"itemLink product-item\").get(\"href\")\n",
    "    browser.visit(url)\n",
    "    time.sleep(5)\n",
    "    \n",
    "    # Create a soup object to find the content from the URL with full size image\n",
    "    html = browser.html\n",
    "    img_soup = BeautifulSoup(html,\"html.parser\")\n",
    "    \n",
    "    # Extracting the parital link for the full sized image\n",
    "    link = img_soup.find(\"div\",class_=\"wide-image-wrapper\").find(\"img\",class_=\"wide-image\").get(\"src\")\n",
    "    \n",
    "    # Forming the entire link by appending the partial link\n",
    "    img_url = \"https://astrogeology.usgs.gov\"+link\n",
    "    print(img_url)\n",
    "    print(\"Link for full size image extracted.\\n\")\n",
    "    \n",
    "    # Append the result to the list\n",
    "    hemisphere_image_urls.append({\"title\":title,\"img_url\":img_url,\"hemisphere_url\":url})\n",
    "    \n",
    "# View the result\n",
    "print(hemisphere_image_urls)"
   ]
  },
  {
   "cell_type": "code",
   "execution_count": null,
   "metadata": {
    "collapsed": true
   },
   "outputs": [],
   "source": []
  }
 ],
 "metadata": {
  "kernelspec": {
   "display_name": "Python 3",
   "language": "python",
   "name": "python3"
  },
  "language_info": {
   "codemirror_mode": {
    "name": "ipython",
    "version": 3
   },
   "file_extension": ".py",
   "mimetype": "text/x-python",
   "name": "python",
   "nbconvert_exporter": "python",
   "pygments_lexer": "ipython3",
   "version": "3.6.3"
  }
 },
 "nbformat": 4,
 "nbformat_minor": 2
}
